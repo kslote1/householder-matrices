{
 "cells": [
  {
   "cell_type": "code",
   "execution_count": 4,
   "id": "14524124",
   "metadata": {},
   "outputs": [
    {
     "name": "stdout",
     "output_type": "stream",
     "text": [
      "Householder Matrix:\n",
      " [[ 0.77777778 -0.44444444 -0.44444444]\n",
      " [-0.44444444  0.11111111 -0.88888889]\n",
      " [-0.44444444 -0.88888889  0.11111111]]\n",
      "Householder Matrix:\n",
      " [[ 0.93333333 -0.33333333 -0.13333333]\n",
      " [-0.33333333 -0.66666667 -0.66666667]\n",
      " [-0.13333333 -0.66666667  0.73333333]]\n"
     ]
    }
   ],
   "source": [
    "import numpy as np\n",
    "\n",
    "def householder_transform(x):\n",
    "    \"\"\"\n",
    "    Computes the Householder matrix that transforms vector x into y.\n",
    "    \n",
    "    Args:\n",
    "    x (numpy.array): The original vector.\n",
    "\n",
    "    Returns:\n",
    "    numpy.array: The Householder matrix.\n",
    "    \"\"\"\n",
    "    v = x / np.linalg.norm(x)\n",
    "    H = np.identity(len(x)) - 2 * np.outer(v, v)\n",
    "    return H\n",
    "\n",
    "# Example usage\n",
    "x = np.array([1, 2, 2])  # Replace with your vector\n",
    "y = np.array([0, 3,0])  # Replace with your target vector\n",
    "x_plus_y = x + y\n",
    "H_x = householder_transform(x)\n",
    "print(\"Householder Matrix:\\n\", H_x)\n",
    "H_x_plus_y = householder_transform(x_plus_y)\n",
    "print(\"Householder Matrix:\\n\", H_x_plus_y)"
   ]
  },
  {
   "cell_type": "code",
   "execution_count": 7,
   "id": "2a7bdd3c",
   "metadata": {},
   "outputs": [
    {
     "data": {
      "text/plain": [
       "array([-1., -2., -2.])"
      ]
     },
     "execution_count": 7,
     "metadata": {},
     "output_type": "execute_result"
    }
   ],
   "source": [
    "np.dot(H_x, x)"
   ]
  },
  {
   "cell_type": "code",
   "execution_count": 8,
   "id": "c3ae3828",
   "metadata": {},
   "outputs": [
    {
     "data": {
      "text/plain": [
       "array([-1., -5., -2.])"
      ]
     },
     "execution_count": 8,
     "metadata": {},
     "output_type": "execute_result"
    }
   ],
   "source": [
    "np.dot(H_x_plus_y, x_plus_y)"
   ]
  },
  {
   "cell_type": "code",
   "execution_count": null,
   "id": "1392b535",
   "metadata": {},
   "outputs": [],
   "source": []
  }
 ],
 "metadata": {
  "kernelspec": {
   "display_name": "Python 3 (ipykernel)",
   "language": "python",
   "name": "python3"
  },
  "language_info": {
   "codemirror_mode": {
    "name": "ipython",
    "version": 3
   },
   "file_extension": ".py",
   "mimetype": "text/x-python",
   "name": "python",
   "nbconvert_exporter": "python",
   "pygments_lexer": "ipython3",
   "version": "3.9.12"
  }
 },
 "nbformat": 4,
 "nbformat_minor": 5
}
